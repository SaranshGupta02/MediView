{
  "cells": [
    {
      "cell_type": "code",
      "execution_count": null,
      "metadata": {
        "_cell_guid": "b1076dfc-b9ad-4769-8c92-a6c4dae69d19",
        "_uuid": "8f2839f25d086af736a60e9eeb907d3b93b6e0e5",
        "execution": {
          "iopub.execute_input": "2025-06-09T05:00:04.232557Z",
          "iopub.status.busy": "2025-06-09T05:00:04.232366Z",
          "iopub.status.idle": "2025-06-09T05:00:06.021521Z",
          "shell.execute_reply": "2025-06-09T05:00:06.020797Z",
          "shell.execute_reply.started": "2025-06-09T05:00:04.232540Z"
        },
        "id": "7F0xEr3ydKQN",
        "trusted": true
      },
      "outputs": [],
      "source": [
        "import numpy as np\n",
        "import pandas as pd #\n",
        "import os\n",
        "\n",
        "\n",
        "# You can write up to 20GB to the current directory (/kaggle/working/) that gets preserved as output when you create a version using \"Save & Run All\"\n",
        "# You can also write temporary files to /kaggle/temp/, but they won't be saved outside of the current session"
      ]
    },
    {
      "cell_type": "code",
      "execution_count": null,
      "metadata": {
        "colab": {
          "base_uri": "https://localhost:8080/",
          "height": 71
        },
        "id": "7P5b2wOzpx0K",
        "outputId": "40ab3d91-a8ea-4c52-a6ba-d7021cd9c7bd"
      },
      "outputs": [
        {
          "data": {
            "text/html": [
              "\n",
              "     <input type=\"file\" id=\"files-a5c25e35-cab7-4982-81ed-329f3cd6bd67\" name=\"files[]\" multiple disabled\n",
              "        style=\"border:none\" />\n",
              "     <output id=\"result-a5c25e35-cab7-4982-81ed-329f3cd6bd67\">\n",
              "      Upload widget is only available when the cell has been executed in the\n",
              "      current browser session. Please rerun this cell to enable.\n",
              "      </output>\n",
              "      <script>// Copyright 2017 Google LLC\n",
              "//\n",
              "// Licensed under the Apache License, Version 2.0 (the \"License\");\n",
              "// you may not use this file except in compliance with the License.\n",
              "// You may obtain a copy of the License at\n",
              "//\n",
              "//      http://www.apache.org/licenses/LICENSE-2.0\n",
              "//\n",
              "// Unless required by applicable law or agreed to in writing, software\n",
              "// distributed under the License is distributed on an \"AS IS\" BASIS,\n",
              "// WITHOUT WARRANTIES OR CONDITIONS OF ANY KIND, either express or implied.\n",
              "// See the License for the specific language governing permissions and\n",
              "// limitations under the License.\n",
              "\n",
              "/**\n",
              " * @fileoverview Helpers for google.colab Python module.\n",
              " */\n",
              "(function(scope) {\n",
              "function span(text, styleAttributes = {}) {\n",
              "  const element = document.createElement('span');\n",
              "  element.textContent = text;\n",
              "  for (const key of Object.keys(styleAttributes)) {\n",
              "    element.style[key] = styleAttributes[key];\n",
              "  }\n",
              "  return element;\n",
              "}\n",
              "\n",
              "// Max number of bytes which will be uploaded at a time.\n",
              "const MAX_PAYLOAD_SIZE = 100 * 1024;\n",
              "\n",
              "function _uploadFiles(inputId, outputId) {\n",
              "  const steps = uploadFilesStep(inputId, outputId);\n",
              "  const outputElement = document.getElementById(outputId);\n",
              "  // Cache steps on the outputElement to make it available for the next call\n",
              "  // to uploadFilesContinue from Python.\n",
              "  outputElement.steps = steps;\n",
              "\n",
              "  return _uploadFilesContinue(outputId);\n",
              "}\n",
              "\n",
              "// This is roughly an async generator (not supported in the browser yet),\n",
              "// where there are multiple asynchronous steps and the Python side is going\n",
              "// to poll for completion of each step.\n",
              "// This uses a Promise to block the python side on completion of each step,\n",
              "// then passes the result of the previous step as the input to the next step.\n",
              "function _uploadFilesContinue(outputId) {\n",
              "  const outputElement = document.getElementById(outputId);\n",
              "  const steps = outputElement.steps;\n",
              "\n",
              "  const next = steps.next(outputElement.lastPromiseValue);\n",
              "  return Promise.resolve(next.value.promise).then((value) => {\n",
              "    // Cache the last promise value to make it available to the next\n",
              "    // step of the generator.\n",
              "    outputElement.lastPromiseValue = value;\n",
              "    return next.value.response;\n",
              "  });\n",
              "}\n",
              "\n",
              "/**\n",
              " * Generator function which is called between each async step of the upload\n",
              " * process.\n",
              " * @param {string} inputId Element ID of the input file picker element.\n",
              " * @param {string} outputId Element ID of the output display.\n",
              " * @return {!Iterable<!Object>} Iterable of next steps.\n",
              " */\n",
              "function* uploadFilesStep(inputId, outputId) {\n",
              "  const inputElement = document.getElementById(inputId);\n",
              "  inputElement.disabled = false;\n",
              "\n",
              "  const outputElement = document.getElementById(outputId);\n",
              "  outputElement.innerHTML = '';\n",
              "\n",
              "  const pickedPromise = new Promise((resolve) => {\n",
              "    inputElement.addEventListener('change', (e) => {\n",
              "      resolve(e.target.files);\n",
              "    });\n",
              "  });\n",
              "\n",
              "  const cancel = document.createElement('button');\n",
              "  inputElement.parentElement.appendChild(cancel);\n",
              "  cancel.textContent = 'Cancel upload';\n",
              "  const cancelPromise = new Promise((resolve) => {\n",
              "    cancel.onclick = () => {\n",
              "      resolve(null);\n",
              "    };\n",
              "  });\n",
              "\n",
              "  // Wait for the user to pick the files.\n",
              "  const files = yield {\n",
              "    promise: Promise.race([pickedPromise, cancelPromise]),\n",
              "    response: {\n",
              "      action: 'starting',\n",
              "    }\n",
              "  };\n",
              "\n",
              "  cancel.remove();\n",
              "\n",
              "  // Disable the input element since further picks are not allowed.\n",
              "  inputElement.disabled = true;\n",
              "\n",
              "  if (!files) {\n",
              "    return {\n",
              "      response: {\n",
              "        action: 'complete',\n",
              "      }\n",
              "    };\n",
              "  }\n",
              "\n",
              "  for (const file of files) {\n",
              "    const li = document.createElement('li');\n",
              "    li.append(span(file.name, {fontWeight: 'bold'}));\n",
              "    li.append(span(\n",
              "        `(${file.type || 'n/a'}) - ${file.size} bytes, ` +\n",
              "        `last modified: ${\n",
              "            file.lastModifiedDate ? file.lastModifiedDate.toLocaleDateString() :\n",
              "                                    'n/a'} - `));\n",
              "    const percent = span('0% done');\n",
              "    li.appendChild(percent);\n",
              "\n",
              "    outputElement.appendChild(li);\n",
              "\n",
              "    const fileDataPromise = new Promise((resolve) => {\n",
              "      const reader = new FileReader();\n",
              "      reader.onload = (e) => {\n",
              "        resolve(e.target.result);\n",
              "      };\n",
              "      reader.readAsArrayBuffer(file);\n",
              "    });\n",
              "    // Wait for the data to be ready.\n",
              "    let fileData = yield {\n",
              "      promise: fileDataPromise,\n",
              "      response: {\n",
              "        action: 'continue',\n",
              "      }\n",
              "    };\n",
              "\n",
              "    // Use a chunked sending to avoid message size limits. See b/62115660.\n",
              "    let position = 0;\n",
              "    do {\n",
              "      const length = Math.min(fileData.byteLength - position, MAX_PAYLOAD_SIZE);\n",
              "      const chunk = new Uint8Array(fileData, position, length);\n",
              "      position += length;\n",
              "\n",
              "      const base64 = btoa(String.fromCharCode.apply(null, chunk));\n",
              "      yield {\n",
              "        response: {\n",
              "          action: 'append',\n",
              "          file: file.name,\n",
              "          data: base64,\n",
              "        },\n",
              "      };\n",
              "\n",
              "      let percentDone = fileData.byteLength === 0 ?\n",
              "          100 :\n",
              "          Math.round((position / fileData.byteLength) * 100);\n",
              "      percent.textContent = `${percentDone}% done`;\n",
              "\n",
              "    } while (position < fileData.byteLength);\n",
              "  }\n",
              "\n",
              "  // All done.\n",
              "  yield {\n",
              "    response: {\n",
              "      action: 'complete',\n",
              "    }\n",
              "  };\n",
              "}\n",
              "\n",
              "scope.google = scope.google || {};\n",
              "scope.google.colab = scope.google.colab || {};\n",
              "scope.google.colab._files = {\n",
              "  _uploadFiles,\n",
              "  _uploadFilesContinue,\n",
              "};\n",
              "})(self);\n",
              "</script> "
            ],
            "text/plain": [
              "<IPython.core.display.HTML object>"
            ]
          },
          "metadata": {},
          "output_type": "display_data"
        },
        {
          "name": "stdout",
          "output_type": "stream",
          "text": [
            "Saving kaggle.json to kaggle (1).json\n"
          ]
        }
      ],
      "source": [
        "!pip install -q kaggle\n",
        "from google.colab import files\n",
        "files.upload()  # Upload the `kaggle.json` file\n",
        "!mkdir -p ~/.kaggle\n",
        "!cp kaggle.json ~/.kaggle/\n",
        "!chmod 600 ~/.kaggle/kaggle.json\n"
      ]
    },
    {
      "cell_type": "code",
      "execution_count": null,
      "metadata": {
        "colab": {
          "base_uri": "https://localhost:8080/"
        },
        "id": "ZmCMKu_Bp9TH",
        "outputId": "6e4e32a9-0569-4f89-ce67-75c91b204a13"
      },
      "outputs": [
        {
          "name": "stdout",
          "output_type": "stream",
          "text": [
            "Dataset URL: https://www.kaggle.com/datasets/msambare/fer2013\n",
            "License(s): DbCL-1.0\n",
            "Downloading fer2013.zip to /content\n",
            "  0% 0.00/60.3M [00:00<?, ?B/s]\n",
            "100% 60.3M/60.3M [00:00<00:00, 875MB/s]\n"
          ]
        }
      ],
      "source": [
        "!kaggle datasets download -d msambare/fer2013\n"
      ]
    },
    {
      "cell_type": "code",
      "execution_count": null,
      "metadata": {
        "id": "edCpfAkpqA9b"
      },
      "outputs": [],
      "source": [
        "import zipfile\n",
        "with zipfile.ZipFile(\"fer2013.zip\", \"r\") as z:\n",
        "    z.extractall(\"fer2013/\")\n"
      ]
    },
    {
      "cell_type": "code",
      "execution_count": null,
      "metadata": {
        "colab": {
          "base_uri": "https://localhost:8080/"
        },
        "execution": {
          "iopub.execute_input": "2025-06-09T05:00:10.680153Z",
          "iopub.status.busy": "2025-06-09T05:00:10.679555Z",
          "iopub.status.idle": "2025-06-09T05:00:24.856023Z",
          "shell.execute_reply": "2025-06-09T05:00:24.855428Z",
          "shell.execute_reply.started": "2025-06-09T05:00:10.680130Z"
        },
        "id": "CxZvYs9rdKQR",
        "outputId": "c630d29d-d095-4177-9a71-ce536e074a2b",
        "trusted": true
      },
      "outputs": [
        {
          "name": "stderr",
          "output_type": "stream",
          "text": [
            "<ipython-input-4-f974e7c6f38b>:7: DeprecationWarning: 'imghdr' is deprecated and slated for removal in Python 3.13\n",
            "  import imghdr\n"
          ]
        }
      ],
      "source": [
        "import os\n",
        "import random\n",
        "import numpy as np\n",
        "import pandas as pd\n",
        "import matplotlib.pyplot as plt\n",
        "import cv2\n",
        "import imghdr\n",
        "import tensorflow as tf\n",
        "from PIL import Image\n",
        "import seaborn as sns\n",
        "\n",
        "from sklearn.metrics import confusion_matrix, classification_report, roc_curve, auc\n",
        "from sklearn.utils.class_weight import compute_class_weight\n",
        "\n",
        "from tensorflow.keras import layers, models, regularizers, optimizers\n",
        "from tensorflow.keras.applications import VGG16, ResNet50V2\n",
        "from tensorflow.keras.callbacks import ModelCheckpoint, EarlyStopping, ReduceLROnPlateau, TensorBoard, CSVLogger\n",
        "from tensorflow.keras.layers import Conv2D, MaxPooling2D, BatchNormalization, Dropout, Flatten, Dense, Activation, GlobalAveragePooling2D\n",
        "from tensorflow.keras.models import Sequential, Model\n",
        "from tensorflow.keras.optimizers import Adam, Adamax\n",
        "from tensorflow.keras.preprocessing.image import ImageDataGenerator, load_img, img_to_array\n",
        "from keras.utils import plot_model"
      ]
    },
    {
      "cell_type": "code",
      "execution_count": null,
      "metadata": {
        "colab": {
          "base_uri": "https://localhost:8080/"
        },
        "execution": {
          "iopub.execute_input": "2025-06-09T05:00:24.857488Z",
          "iopub.status.busy": "2025-06-09T05:00:24.857097Z",
          "iopub.status.idle": "2025-06-09T05:00:24.863099Z",
          "shell.execute_reply": "2025-06-09T05:00:24.862477Z",
          "shell.execute_reply.started": "2025-06-09T05:00:24.857470Z"
        },
        "id": "ppUxT-8_dKQT",
        "outputId": "68bd2ea2-047e-45cb-a468-e862592bb380",
        "trusted": true
      },
      "outputs": [
        {
          "name": "stdout",
          "output_type": "stream",
          "text": [
            "Project directory structure created at: /content/FER_2013_Emotion_Detection\n"
          ]
        }
      ],
      "source": [
        "\n",
        "project_name = 'FER_2013_Emotion_Detection'\n",
        "\n",
        "model_name = [\n",
        "    'ResNet50_Transfer_Learning'\n",
        "]\n",
        "\n",
        "base_dir = '/content'\n",
        "\n",
        "project_dir = os.path.join(base_dir, project_name)\n",
        "os.makedirs(project_dir, exist_ok=True)\n",
        "\n",
        "for each_model in model_name:\n",
        "    model_dir = os.path.join(project_dir, each_model)\n",
        "    os.makedirs(model_dir, exist_ok=True)\n",
        "\n",
        "\n",
        "print(f'Project directory structure created at: {project_dir}')\n"
      ]
    },
    {
      "cell_type": "code",
      "execution_count": null,
      "metadata": {
        "execution": {
          "iopub.execute_input": "2025-06-09T05:00:24.864118Z",
          "iopub.status.busy": "2025-06-09T05:00:24.863852Z",
          "iopub.status.idle": "2025-06-09T05:03:33.409348Z",
          "shell.execute_reply": "2025-06-09T05:03:33.408763Z",
          "shell.execute_reply.started": "2025-06-09T05:00:24.864094Z"
        },
        "id": "fCSJOEdFdKQU",
        "trusted": true
      },
      "outputs": [],
      "source": [
        "\n",
        "image_exts = ['jpeg', 'jpg', 'png']\n",
        "\n",
        "data_dir = '/content/fer2013/train'\n",
        "\n",
        "for root, dirs, files in os.walk(data_dir):\n",
        "    for file in files:\n",
        "        # Construct the path to the current file\n",
        "        file_path = os.path.join(root, file)\n",
        "\n",
        "        try:\n",
        "            # Check the file type of the current file\n",
        "            file_type = imghdr.what(file_path)\n",
        "\n",
        "            # If the file extension is not in the allowed list, remove it\n",
        "            if file_type not in image_exts:\n",
        "                print(f'Image not in ext list {file_path}')\n",
        "                os.remove(file_path)\n",
        "            else:\n",
        "                # Proceed to process the image if needed, for example, reading it with OpenCV\n",
        "                img = cv2.imread(file_path)\n",
        "\n",
        "        except Exception as e:\n",
        "            # Print out the issue and the path of the problematic file\n",
        "            print(f'Issue with file {file_path}. Error: {e}')\n",
        "            # Optionally, remove files that cause exceptions\n",
        "            os.remove(file_path)"
      ]
    },
    {
      "cell_type": "code",
      "execution_count": null,
      "metadata": {
        "colab": {
          "base_uri": "https://localhost:8080/"
        },
        "execution": {
          "iopub.execute_input": "2025-06-08T09:33:14.518834Z",
          "iopub.status.busy": "2025-06-08T09:33:14.518559Z",
          "iopub.status.idle": "2025-06-08T09:33:14.522935Z",
          "shell.execute_reply": "2025-06-08T09:33:14.522296Z",
          "shell.execute_reply.started": "2025-06-08T09:33:14.518813Z"
        },
        "id": "La1jHbfZdKQU",
        "outputId": "7b2d5450-7294-4a48-c02f-0ced4a46db54",
        "trusted": true
      },
      "outputs": [
        {
          "name": "stdout",
          "output_type": "stream",
          "text": [
            "2.18.0\n"
          ]
        }
      ],
      "source": [
        "\n",
        "print(tf.__version__)\n"
      ]
    },
    {
      "cell_type": "code",
      "execution_count": null,
      "metadata": {
        "colab": {
          "base_uri": "https://localhost:8080/"
        },
        "execution": {
          "iopub.execute_input": "2025-06-09T05:04:37.597256Z",
          "iopub.status.busy": "2025-06-09T05:04:37.596427Z",
          "iopub.status.idle": "2025-06-09T05:04:37.799397Z",
          "shell.execute_reply": "2025-06-09T05:04:37.798796Z",
          "shell.execute_reply.started": "2025-06-09T05:04:37.597222Z"
        },
        "id": "yI48RjZFdKQV",
        "outputId": "da3e3ef1-aaac-481f-8978-741487f52da5",
        "trusted": true
      },
      "outputs": [
        {
          "name": "stdout",
          "output_type": "stream",
          "text": [
            "        sad  neutral  happy  fear  angry  disgust  surprise\n",
            "train  4830     4965   7215  4097   3995      436      3171\n",
            "       sad  neutral  happy  fear  angry  disgust  surprise\n",
            "test  1247     1233   1774  1024    958      111       831\n"
          ]
        }
      ],
      "source": [
        "\n",
        "def count_files_in_subdirs(directory, set_name):\n",
        "    # Initialize an empty dictionary to hold the count of files for each subdirectory.\n",
        "    counts = {}\n",
        "\n",
        "    # Iterate over each item in the given directory.\n",
        "    for item in os.listdir(directory):\n",
        "        # Construct the full path to the item.\n",
        "        item_path = os.path.join(directory, item)\n",
        "\n",
        "        # Check if the item is a directory.\n",
        "        if os.path.isdir(item_path):\n",
        "            # Count the number of files in the subdirectory and add it to the dictionary.\n",
        "            counts[item] = len(os.listdir(item_path))\n",
        "\n",
        "\n",
        "    df = pd.DataFrame(counts, index=[set_name])\n",
        "    return df\n",
        "\n",
        "# Paths to the training and testing directories.\n",
        "train_dir = '/content/fer2013/train'\n",
        "test_dir = '/content/fer2013/test'\n",
        "\n",
        "# Count the files in the subdirectories of the training directory and print the result.\n",
        "train_count = count_files_in_subdirs(train_dir, 'train')\n",
        "print(train_count)\n",
        "\n",
        "# Count the files in the subdirectories of the testing directory and print the result.\n",
        "test_count = count_files_in_subdirs(test_dir, 'test')\n",
        "print(test_count)\n"
      ]
    },
    {
      "cell_type": "code",
      "execution_count": null,
      "metadata": {
        "colab": {
          "base_uri": "https://localhost:8080/",
          "height": 489
        },
        "execution": {
          "iopub.execute_input": "2025-06-09T05:04:39.867698Z",
          "iopub.status.busy": "2025-06-09T05:04:39.867407Z",
          "iopub.status.idle": "2025-06-09T05:04:40.143000Z",
          "shell.execute_reply": "2025-06-09T05:04:40.142324Z",
          "shell.execute_reply.started": "2025-06-09T05:04:39.867677Z"
        },
        "id": "jkvqIxYxdKQV",
        "outputId": "c12528f9-2103-4e5e-ea85-9a0bca10a1b7",
        "trusted": true
      },
      "outputs": [
        {
          "data": {
            "text/plain": [
              "<Axes: >"
            ]
          },
          "execution_count": 9,
          "metadata": {},
          "output_type": "execute_result"
        },
        {
          "data": {
            "image/png": "[encoded data removed]",
            "text/plain": [
              "<Figure size 640x480 with 1 Axes>"
            ]
          },
          "metadata": {},
          "output_type": "display_data"
        }
      ],
      "source": [
        "train_count.transpose().plot(kind='bar')"
      ]
    },
    {
      "cell_type": "code",
      "execution_count": null,
      "metadata": {
        "colab": {
          "base_uri": "https://localhost:8080/",
          "height": 489
        },
        "execution": {
          "iopub.execute_input": "2025-06-09T05:04:40.881603Z",
          "iopub.status.busy": "2025-06-09T05:04:40.881053Z",
          "iopub.status.idle": "2025-06-09T05:04:41.049442Z",
          "shell.execute_reply": "2025-06-09T05:04:41.048881Z",
          "shell.execute_reply.started": "2025-06-09T05:04:40.881582Z"
        },
        "id": "zWErkJBAdKQW",
        "outputId": "7405040c-c2d7-4cdf-c1fd-644dbe93a411",
        "trusted": true
      },
      "outputs": [
        {
          "data": {
            "text/plain": [
              "<Axes: >"
            ]
          },
          "execution_count": 10,
          "metadata": {},
          "output_type": "execute_result"
        },
        {
          "data": {
            "image/png": "[encoded data removed]",
            "text/plain": [
              "<Figure size 640x480 with 1 Axes>"
            ]
          },
          "metadata": {},
          "output_type": "display_data"
        }
      ],
      "source": [
        "test_count.transpose().plot(kind='bar')"
      ]
    },
    {
      "cell_type": "code",
      "execution_count": null,
      "metadata": {
        "colab": {
          "base_uri": "https://localhost:8080/",
          "height": 557
        },
        "execution": {
          "iopub.execute_input": "2025-06-09T05:04:42.072990Z",
          "iopub.status.busy": "2025-06-09T05:04:42.072709Z",
          "iopub.status.idle": "2025-06-09T05:04:42.510567Z",
          "shell.execute_reply": "2025-06-09T05:04:42.509935Z",
          "shell.execute_reply.started": "2025-06-09T05:04:42.072970Z"
        },
        "id": "zIZfQIjDdKQX",
        "outputId": "0b4f9ce4-6afb-4337-c340-a1da00b74cf9",
        "trusted": true
      },
      "outputs": [
        {
          "data": {
            "image/png": "[encoded data removed]",
            "text/plain": [
              "<Figure size 1500x1000 with 7 Axes>"
            ]
          },
          "metadata": {},
          "output_type": "display_data"
        }
      ],
      "source": [
        "emotions = os.listdir(train_dir)\n",
        "plt.figure(figsize=(15,10))\n",
        "\n",
        "for i, emotion in enumerate(emotions, 1):\n",
        "    folder = os.path.join(train_dir, emotion)\n",
        "    img_path = os.path.join(folder, os.listdir(folder)[42])\n",
        "    img = plt.imread(img_path)\n",
        "    plt.subplot(3, 4, i)\n",
        "    plt.imshow(img, cmap='gray')\n",
        "    plt.title(emotion)\n",
        "    plt.axis('off')"
      ]
    },
    {
      "cell_type": "code",
      "execution_count": null,
      "metadata": {
        "colab": {
          "base_uri": "https://localhost:8080/"
        },
        "execution": {
          "iopub.execute_input": "2025-06-09T05:04:43.238794Z",
          "iopub.status.busy": "2025-06-09T05:04:43.238265Z",
          "iopub.status.idle": "2025-06-09T05:04:49.774749Z",
          "shell.execute_reply": "2025-06-09T05:04:49.774038Z",
          "shell.execute_reply.started": "2025-06-09T05:04:43.238771Z"
        },
        "id": "xWFm7PV9dKQX",
        "outputId": "08bbfcaf-0a72-46ca-af0b-08a3cccf537d",
        "trusted": true
      },
      "outputs": [
        {
          "name": "stdout",
          "output_type": "stream",
          "text": [
            "Found 28709 images belonging to 7 classes.\n",
            "Found 7178 images belonging to 7 classes.\n"
          ]
        }
      ],
      "source": [
        "# Directory paths for training and testing data\n",
        "train_dir = '/content/fer2013/train'\n",
        "test_dir = '/content/fer2013/test'\n",
        "\n",
        "\n",
        "# Batch size for data generators\n",
        "batch_size = 64\n",
        "\n",
        "# Data augmentation configuration for training data\n",
        "train_datagen = ImageDataGenerator(\n",
        "                                  rescale=1 / 255.,  # Rescale pixel values to [0,1]\n",
        "                                  rotation_range=10,  # Random rotation within range [-10,10] degrees\n",
        "                                  zoom_range=0.2,  # Random zoom between [0.8, 1.2]\n",
        "                                  width_shift_range=0.1,  # Random horizontal shift within range [-0.1, 0.1]\n",
        "                                  height_shift_range=0.1,  # Random vertical shift within range [-0.1, 0.1]\n",
        "                                  horizontal_flip=True,  # Random horizontal flip\n",
        "                                  fill_mode='nearest'  # Fill mode for handling newly created pixels\n",
        "                                 )\n",
        "\n",
        "# Configuration for testing data (only rescaling)\n",
        "test_datagen = ImageDataGenerator(\n",
        "                                  rescale=1 / 255.  # Rescale pixel values to [0,1]\n",
        "                                 )\n",
        "\n",
        "# Data generators for training and testing data\n",
        "train_generator = train_datagen.flow_from_directory(\n",
        "                                                    train_dir,  # Directory containing training data\n",
        "                                                    class_mode=\"categorical\",  # Classification mode for categorical labels\n",
        "                                                    target_size=(224, 224),  # Resize input images to (224,224)\n",
        "                                                    color_mode='rgb',  # Color mode for images (RGB)\n",
        "                                                    shuffle=True,  # Shuffle training data\n",
        "                                                    batch_size=batch_size,  # Batch size for training\n",
        "                                                    subset='training'  # Subset of data (training)\n",
        "                                                   )\n",
        "\n",
        "test_generator = test_datagen.flow_from_directory(\n",
        "                                                  test_dir,  # Directory containing testing data\n",
        "                                                  class_mode=\"categorical\",  # Classification mode for categorical labels\n",
        "                                                  target_size=(224, 224),  # Resize input images to (224,224)\n",
        "                                                  color_mode=\"rgb\",  # Color mode for images (RGB)\n",
        "                                                  shuffle=False,  # Do not shuffle testing data\n",
        "                                                  batch_size=batch_size  # Batch size for testing\n",
        "                                                 )\n"
      ]
    },
    {
      "cell_type": "code",
      "execution_count": null,
      "metadata": {
        "colab": {
          "base_uri": "https://localhost:8080/"
        },
        "execution": {
          "iopub.execute_input": "2025-06-09T05:04:54.090463Z",
          "iopub.status.busy": "2025-06-09T05:04:54.090183Z",
          "iopub.status.idle": "2025-06-09T05:04:54.100671Z",
          "shell.execute_reply": "2025-06-09T05:04:54.099748Z",
          "shell.execute_reply.started": "2025-06-09T05:04:54.090441Z"
        },
        "id": "v7jgN0VpdKQY",
        "outputId": "1173b62d-6ddd-455a-b136-5dd033a6b78b",
        "trusted": true
      },
      "outputs": [
        {
          "name": "stdout",
          "output_type": "stream",
          "text": [
            "Class Weights Dictionary: {0: np.float64(1.0266046844269623), 1: np.float64(9.406618610747051), 2: np.float64(1.0010460615781582), 3: np.float64(0.5684387684387684), 4: np.float64(0.8260394187886635), 5: np.float64(0.8491274770777877), 6: np.float64(1.293372978330405)}\n"
          ]
        }
      ],
      "source": [
        "# Extract class labels for all instances in the training dataset\n",
        "classes = np.array(train_generator.classes)\n",
        "\n",
        "class_weights = compute_class_weight(\n",
        "    class_weight='balanced',  # Strategy to balance classes\n",
        "    classes=np.unique(classes),  # Unique class labels\n",
        "    y=classes  # Class labels for each instance in the training dataset\n",
        ")\n",
        "\n",
        "# Create a dictionary mapping class indices to their calculated weights\n",
        "class_weights_dict = dict(enumerate(class_weights))\n",
        "\n",
        "# Output the class weights dictionary\n",
        "print(\"Class Weights Dictionary:\", class_weights_dict)"
      ]
    },
    {
      "cell_type": "code",
      "execution_count": null,
      "metadata": {
        "colab": {
          "base_uri": "https://localhost:8080/"
        },
        "execution": {
          "iopub.execute_input": "2025-06-09T05:04:54.370975Z",
          "iopub.status.busy": "2025-06-09T05:04:54.370311Z",
          "iopub.status.idle": "2025-06-09T05:04:58.870030Z",
          "shell.execute_reply": "2025-06-09T05:04:58.869208Z",
          "shell.execute_reply.started": "2025-06-09T05:04:54.370955Z"
        },
        "id": "kxN6G_XDdKQY",
        "outputId": "b8596ce6-5df8-40a0-900f-739a6da76206",
        "trusted": true
      },
      "outputs": [
        {
          "name": "stdout",
          "output_type": "stream",
          "text": [
            "Downloading data from https://storage.googleapis.com/tensorflow/keras-applications/resnet/resnet50v2_weights_tf_dim_ordering_tf_kernels_notop.h5\n",
            "\u001b[1m94668760/94668760\u001b[0m \u001b[32m━━━━━━━━━━━━━━━━━━━━\u001b[0m\u001b[37m\u001b[0m \u001b[1m3s\u001b[0m 0us/step\n"
          ]
        }
      ],
      "source": [
        "ResNet50V2 = tf.keras.applications.ResNet50V2(input_shape=(224, 224, 3),\n",
        "                                               include_top= False,\n",
        "                                               weights='imagenet'\n",
        "                                               )"
      ]
    },
    {
      "cell_type": "code",
      "execution_count": null,
      "metadata": {
        "execution": {
          "iopub.execute_input": "2025-06-09T05:04:58.871694Z",
          "iopub.status.busy": "2025-06-09T05:04:58.871415Z",
          "iopub.status.idle": "2025-06-09T05:04:58.877455Z",
          "shell.execute_reply": "2025-06-09T05:04:58.876715Z",
          "shell.execute_reply.started": "2025-06-09T05:04:58.871671Z"
        },
        "id": "kXWi7eXodKQZ",
        "trusted": true
      },
      "outputs": [],
      "source": [
        "\n",
        "ResNet50V2.trainable = True\n",
        "\n",
        "for layer in ResNet50V2.layers[:-50]:\n",
        "    layer.trainable = False"
      ]
    },
    {
      "cell_type": "code",
      "execution_count": null,
      "metadata": {
        "execution": {
          "iopub.execute_input": "2025-06-09T05:04:58.878483Z",
          "iopub.status.busy": "2025-06-09T05:04:58.878245Z",
          "iopub.status.idle": "2025-06-09T05:04:58.892918Z",
          "shell.execute_reply": "2025-06-09T05:04:58.892381Z",
          "shell.execute_reply.started": "2025-06-09T05:04:58.878462Z"
        },
        "id": "Sqszpw3DdKQZ",
        "trusted": true
      },
      "outputs": [],
      "source": [
        "def Create_ResNet50V2_Model():\n",
        "\n",
        "    model = Sequential([\n",
        "                      ResNet50V2,\n",
        "                      Dropout(0.25),\n",
        "                      BatchNormalization(),\n",
        "                      Flatten(),\n",
        "                      Dense(64, activation='relu'),\n",
        "                      BatchNormalization(),\n",
        "                      Dropout(0.5),\n",
        "                      Dense(7,activation='softmax')\n",
        "                    ])\n",
        "    return model"
      ]
    },
    {
      "cell_type": "code",
      "execution_count": null,
      "metadata": {
        "colab": {
          "base_uri": "https://localhost:8080/",
          "height": 417
        },
        "execution": {
          "iopub.execute_input": "2025-06-09T05:05:00.401632Z",
          "iopub.status.busy": "2025-06-09T05:05:00.400979Z",
          "iopub.status.idle": "2025-06-09T05:05:00.461260Z",
          "shell.execute_reply": "2025-06-09T05:05:00.460714Z",
          "shell.execute_reply.started": "2025-06-09T05:05:00.401590Z"
        },
        "id": "0oIQAmkbdKQZ",
        "outputId": "407e2248-b007-441a-904b-16b13db308b6",
        "trusted": true
      },
      "outputs": [
        {
          "data": {
            "text/html": [
              "<pre style=\"white-space:pre;overflow-x:auto;line-height:normal;font-family:Menlo,'DejaVu Sans Mono',consolas,'Courier New',monospace\"><span style=\"font-weight: bold\">Model: \"sequential\"</span>\n",
              "</pre>\n"
            ],
            "text/plain": [
              "\u001b[1mModel: \"sequential\"\u001b[0m\n"
            ]
          },
          "metadata": {},
          "output_type": "display_data"
        },
        {
          "data": {
            "text/html": [
              "<pre style=\"white-space:pre;overflow-x:auto;line-height:normal;font-family:Menlo,'DejaVu Sans Mono',consolas,'Courier New',monospace\">┏━━━━━━━━━━━━━━━━━━━━━━━━━━━━━━━━━┳━━━━━━━━━━━━━━━━━━━━━━━━┳━━━━━━━━━━━━━━━┓\n",
              "┃<span style=\"font-weight: bold\"> Layer (type)                    </span>┃<span style=\"font-weight: bold\"> Output Shape           </span>┃<span style=\"font-weight: bold\">       Param # </span>┃\n",
              "┡━━━━━━━━━━━━━━━━━━━━━━━━━━━━━━━━━╇━━━━━━━━━━━━━━━━━━━━━━━━╇━━━━━━━━━━━━━━━┩\n",
              "│ resnet50v2 (<span style=\"color: #0087ff; text-decoration-color: #0087ff\">Functional</span>)         │ (<span style=\"color: #00d7ff; text-decoration-color: #00d7ff\">None</span>, <span style=\"color: #00af00; text-decoration-color: #00af00\">7</span>, <span style=\"color: #00af00; text-decoration-color: #00af00\">7</span>, <span style=\"color: #00af00; text-decoration-color: #00af00\">2048</span>)     │    <span style=\"color: #00af00; text-decoration-color: #00af00\">23,564,800</span> │\n",
              "├─────────────────────────────────┼────────────────────────┼───────────────┤\n",
              "│ dropout (<span style=\"color: #0087ff; text-decoration-color: #0087ff\">Dropout</span>)               │ (<span style=\"color: #00d7ff; text-decoration-color: #00d7ff\">None</span>, <span style=\"color: #00af00; text-decoration-color: #00af00\">7</span>, <span style=\"color: #00af00; text-decoration-color: #00af00\">7</span>, <span style=\"color: #00af00; text-decoration-color: #00af00\">2048</span>)     │             <span style=\"color: #00af00; text-decoration-color: #00af00\">0</span> │\n",
              "├─────────────────────────────────┼────────────────────────┼───────────────┤\n",
              "│ batch_normalization             │ (<span style=\"color: #00d7ff; text-decoration-color: #00d7ff\">None</span>, <span style=\"color: #00af00; text-decoration-color: #00af00\">7</span>, <span style=\"color: #00af00; text-decoration-color: #00af00\">7</span>, <span style=\"color: #00af00; text-decoration-color: #00af00\">2048</span>)     │         <span style=\"color: #00af00; text-decoration-color: #00af00\">8,192</span> │\n",
              "│ (<span style=\"color: #0087ff; text-decoration-color: #0087ff\">BatchNormalization</span>)            │                        │               │\n",
              "├─────────────────────────────────┼────────────────────────┼───────────────┤\n",
              "│ flatten (<span style=\"color: #0087ff; text-decoration-color: #0087ff\">Flatten</span>)               │ (<span style=\"color: #00d7ff; text-decoration-color: #00d7ff\">None</span>, <span style=\"color: #00af00; text-decoration-color: #00af00\">100352</span>)         │             <span style=\"color: #00af00; text-decoration-color: #00af00\">0</span> │\n",
              "├─────────────────────────────────┼────────────────────────┼───────────────┤\n",
              "│ dense (<span style=\"color: #0087ff; text-decoration-color: #0087ff\">Dense</span>)                   │ (<span style=\"color: #00d7ff; text-decoration-color: #00d7ff\">None</span>, <span style=\"color: #00af00; text-decoration-color: #00af00\">64</span>)             │     <span style=\"color: #00af00; text-decoration-color: #00af00\">6,422,592</span> │\n",
              "├─────────────────────────────────┼────────────────────────┼───────────────┤\n",
              "│ batch_normalization_1           │ (<span style=\"color: #00d7ff; text-decoration-color: #00d7ff\">None</span>, <span style=\"color: #00af00; text-decoration-color: #00af00\">64</span>)             │           <span style=\"color: #00af00; text-decoration-color: #00af00\">256</span> │\n",
              "│ (<span style=\"color: #0087ff; text-decoration-color: #0087ff\">BatchNormalization</span>)            │                        │               │\n",
              "├─────────────────────────────────┼────────────────────────┼───────────────┤\n",
              "│ dropout_1 (<span style=\"color: #0087ff; text-decoration-color: #0087ff\">Dropout</span>)             │ (<span style=\"color: #00d7ff; text-decoration-color: #00d7ff\">None</span>, <span style=\"color: #00af00; text-decoration-color: #00af00\">64</span>)             │             <span style=\"color: #00af00; text-decoration-color: #00af00\">0</span> │\n",
              "├─────────────────────────────────┼────────────────────────┼───────────────┤\n",
              "│ dense_1 (<span style=\"color: #0087ff; text-decoration-color: #0087ff\">Dense</span>)                 │ (<span style=\"color: #00d7ff; text-decoration-color: #00d7ff\">None</span>, <span style=\"color: #00af00; text-decoration-color: #00af00\">7</span>)              │           <span style=\"color: #00af00; text-decoration-color: #00af00\">455</span> │\n",
              "└─────────────────────────────────┴────────────────────────┴───────────────┘\n",
              "</pre>\n"
            ],
            "text/plain": [
              "┏━━━━━━━━━━━━━━━━━━━━━━━━━━━━━━━━━┳━━━━━━━━━━━━━━━━━━━━━━━━┳━━━━━━━━━━━━━━━┓\n",
              "┃\u001b[1m \u001b[0m\u001b[1mLayer (type)                   \u001b[0m\u001b[1m \u001b[0m┃\u001b[1m \u001b[0m\u001b[1mOutput Shape          \u001b[0m\u001b[1m \u001b[0m┃\u001b[1m \u001b[0m\u001b[1m      Param #\u001b[0m\u001b[1m \u001b[0m┃\n",
              "┡━━━━━━━━━━━━━━━━━━━━━━━━━━━━━━━━━╇━━━━━━━━━━━━━━━━━━━━━━━━╇━━━━━━━━━━━━━━━┩\n",
              "│ resnet50v2 (\u001b[38;5;33mFunctional\u001b[0m)         │ (\u001b[38;5;45mNone\u001b[0m, \u001b[38;5;34m7\u001b[0m, \u001b[38;5;34m7\u001b[0m, \u001b[38;5;34m2048\u001b[0m)     │    \u001b[38;5;34m23,564,800\u001b[0m │\n",
              "├─────────────────────────────────┼────────────────────────┼───────────────┤\n",
              "│ dropout (\u001b[38;5;33mDropout\u001b[0m)               │ (\u001b[38;5;45mNone\u001b[0m, \u001b[38;5;34m7\u001b[0m, \u001b[38;5;34m7\u001b[0m, \u001b[38;5;34m2048\u001b[0m)     │             \u001b[38;5;34m0\u001b[0m │\n",
              "├─────────────────────────────────┼────────────────────────┼───────────────┤\n",
              "│ batch_normalization             │ (\u001b[38;5;45mNone\u001b[0m, \u001b[38;5;34m7\u001b[0m, \u001b[38;5;34m7\u001b[0m, \u001b[38;5;34m2048\u001b[0m)     │         \u001b[38;5;34m8,192\u001b[0m │\n",
              "│ (\u001b[38;5;33mBatchNormalization\u001b[0m)            │                        │               │\n",
              "├─────────────────────────────────┼────────────────────────┼───────────────┤\n",
              "│ flatten (\u001b[38;5;33mFlatten\u001b[0m)               │ (\u001b[38;5;45mNone\u001b[0m, \u001b[38;5;34m100352\u001b[0m)         │             \u001b[38;5;34m0\u001b[0m │\n",
              "├─────────────────────────────────┼────────────────────────┼───────────────┤\n",
              "│ dense (\u001b[38;5;33mDense\u001b[0m)                   │ (\u001b[38;5;45mNone\u001b[0m, \u001b[38;5;34m64\u001b[0m)             │     \u001b[38;5;34m6,422,592\u001b[0m │\n",
              "├─────────────────────────────────┼────────────────────────┼───────────────┤\n",
              "│ batch_normalization_1           │ (\u001b[38;5;45mNone\u001b[0m, \u001b[38;5;34m64\u001b[0m)             │           \u001b[38;5;34m256\u001b[0m │\n",
              "│ (\u001b[38;5;33mBatchNormalization\u001b[0m)            │                        │               │\n",
              "├─────────────────────────────────┼────────────────────────┼───────────────┤\n",
              "│ dropout_1 (\u001b[38;5;33mDropout\u001b[0m)             │ (\u001b[38;5;45mNone\u001b[0m, \u001b[38;5;34m64\u001b[0m)             │             \u001b[38;5;34m0\u001b[0m │\n",
              "├─────────────────────────────────┼────────────────────────┼───────────────┤\n",
              "│ dense_1 (\u001b[38;5;33mDense\u001b[0m)                 │ (\u001b[38;5;45mNone\u001b[0m, \u001b[38;5;34m7\u001b[0m)              │           \u001b[38;5;34m455\u001b[0m │\n",
              "└─────────────────────────────────┴────────────────────────┴───────────────┘\n"
            ]
          },
          "metadata": {},
          "output_type": "display_data"
        },
        {
          "data": {
            "text/html": [
              "<pre style=\"white-space:pre;overflow-x:auto;line-height:normal;font-family:Menlo,'DejaVu Sans Mono',consolas,'Courier New',monospace\"><span style=\"font-weight: bold\"> Total params: </span><span style=\"color: #00af00; text-decoration-color: #00af00\">29,996,295</span> (114.43 MB)\n",
              "</pre>\n"
            ],
            "text/plain": [
              "\u001b[1m Total params: \u001b[0m\u001b[38;5;34m29,996,295\u001b[0m (114.43 MB)\n"
            ]
          },
          "metadata": {},
          "output_type": "display_data"
        },
        {
          "data": {
            "text/html": [
              "<pre style=\"white-space:pre;overflow-x:auto;line-height:normal;font-family:Menlo,'DejaVu Sans Mono',consolas,'Courier New',monospace\"><span style=\"font-weight: bold\"> Trainable params: </span><span style=\"color: #00af00; text-decoration-color: #00af00\">22,779,527</span> (86.90 MB)\n",
              "</pre>\n"
            ],
            "text/plain": [
              "\u001b[1m Trainable params: \u001b[0m\u001b[38;5;34m22,779,527\u001b[0m (86.90 MB)\n"
            ]
          },
          "metadata": {},
          "output_type": "display_data"
        },
        {
          "data": {
            "text/html": [
              "<pre style=\"white-space:pre;overflow-x:auto;line-height:normal;font-family:Menlo,'DejaVu Sans Mono',consolas,'Courier New',monospace\"><span style=\"font-weight: bold\"> Non-trainable params: </span><span style=\"color: #00af00; text-decoration-color: #00af00\">7,216,768</span> (27.53 MB)\n",
              "</pre>\n"
            ],
            "text/plain": [
              "\u001b[1m Non-trainable params: \u001b[0m\u001b[38;5;34m7,216,768\u001b[0m (27.53 MB)\n"
            ]
          },
          "metadata": {},
          "output_type": "display_data"
        }
      ],
      "source": [
        "model = Create_ResNet50V2_Model()\n",
        "model.summary()"
      ]
    },
    {
      "cell_type": "code",
      "execution_count": null,
      "metadata": {
        "execution": {
          "iopub.execute_input": "2025-06-09T05:05:01.753896Z",
          "iopub.status.busy": "2025-06-09T05:05:01.753129Z",
          "iopub.status.idle": "2025-06-09T05:05:01.768393Z",
          "shell.execute_reply": "2025-06-09T05:05:01.767556Z",
          "shell.execute_reply.started": "2025-06-09T05:05:01.753867Z"
        },
        "id": "x-IC1aDAdKQZ",
        "trusted": true
      },
      "outputs": [],
      "source": [
        "model.compile(optimizer='adam', loss='categorical_crossentropy', metrics=['accuracy'])"
      ]
    },
    {
      "cell_type": "code",
      "execution_count": null,
      "metadata": {
        "execution": {
          "iopub.execute_input": "2025-06-09T05:05:03.293049Z",
          "iopub.status.busy": "2025-06-09T05:05:03.292786Z",
          "iopub.status.idle": "2025-06-09T05:05:03.298961Z",
          "shell.execute_reply": "2025-06-09T05:05:03.298149Z",
          "shell.execute_reply.started": "2025-06-09T05:05:03.293030Z"
        },
        "id": "Qj_9DvPwdKQZ",
        "trusted": true
      },
      "outputs": [],
      "source": [
        "\n",
        "cnn_path = '/content/FER_2013_Emotion_Detection'\n",
        "name = 'ResNet50_Transfer_Learning.keras'\n",
        "chk_path = os.path.join(cnn_path, name)\n",
        "\n",
        "# Callback to save the model checkpoint\n",
        "checkpoint = ModelCheckpoint(filepath=chk_path,\n",
        "                             save_best_only=True,\n",
        "                             verbose=1,\n",
        "                             mode='min',\n",
        "                             monitor='val_loss')\n",
        "\n",
        "# Callback for early stopping\n",
        "earlystop = EarlyStopping(monitor = 'val_accuracy',\n",
        "                          patience = 7,\n",
        "                          restore_best_weights = True,\n",
        "                          verbose=1)\n",
        "\n",
        "# Callback to reduce learning rate\n",
        "reduce_lr = ReduceLROnPlateau(monitor='val_loss',\n",
        "                              factor=0.2,\n",
        "                              patience=2,\n",
        "#                             min_lr=0.00005,\n",
        "                              verbose=1)\n",
        "\n",
        "# Callback to log training data to a CSV file\n",
        "csv_logger = CSVLogger(os.path.join(cnn_path,'training.log'))\n",
        "\n",
        "# Aggregating all callbacks into a list\n",
        "callbacks = [checkpoint, earlystop, csv_logger]  # Adjusted as per your use-case\n",
        "\n",
        "train_steps_per_epoch = train_generator.samples // train_generator.batch_size + 1\n",
        "# validation_steps_epoch = validation_generator.samples // validation_generator.batch_size + 1\n",
        "test_steps_epoch = test_generator.samples // test_generator.batch_size + 1"
      ]
    },
    {
      "cell_type": "code",
      "execution_count": null,
      "metadata": {
        "colab": {
          "base_uri": "https://localhost:8080/"
        },
        "execution": {
          "iopub.execute_input": "2025-06-09T05:05:14.337587Z",
          "iopub.status.busy": "2025-06-09T05:05:14.337324Z"
        },
        "id": "Z6VVGBY-dKQZ",
        "outputId": "e1f576b3-7f5d-4c9e-f2e2-336dab3fa6c6",
        "trusted": true
      },
      "outputs": [
        {
          "name": "stderr",
          "output_type": "stream",
          "text": [
            "/usr/local/lib/python3.11/dist-packages/keras/src/trainers/data_adapters/py_dataset_adapter.py:121: UserWarning: Your `PyDataset` class should call `super().__init__(**kwargs)` in its constructor. `**kwargs` can include `workers`, `use_multiprocessing`, `max_queue_size`. Do not pass these arguments to `fit()`, as they will be ignored.\n",
            "  self._warn_if_super_not_called()\n"
          ]
        },
        {
          "name": "stdout",
          "output_type": "stream",
          "text": [
            "Epoch 1/30\n",
            "\u001b[1m449/449\u001b[0m \u001b[32m━━━━━━━━━━━━━━━━━━━━\u001b[0m\u001b[37m\u001b[0m \u001b[1m0s\u001b[0m 934ms/step - accuracy: 0.3186 - loss: 2.0117\n",
            "Epoch 1: val_loss improved from inf to 4.17470, saving model to /content/FER_2013_Emotion_Detection/ResNet50_Transfer_Learning.keras\n",
            "\u001b[1m449/449\u001b[0m \u001b[32m━━━━━━━━━━━━━━━━━━━━\u001b[0m\u001b[37m\u001b[0m \u001b[1m502s\u001b[0m 1s/step - accuracy: 0.3188 - loss: 2.0112 - val_accuracy: 0.4298 - val_loss: 4.1747\n",
            "Epoch 2/30\n",
            "\u001b[1m449/449\u001b[0m \u001b[32m━━━━━━━━━━━━━━━━━━━━\u001b[0m\u001b[37m\u001b[0m \u001b[1m0s\u001b[0m 912ms/step - accuracy: 0.4364 - loss: 1.5947\n",
            "Epoch 2: val_loss improved from 4.17470 to 2.63012, saving model to /content/FER_2013_Emotion_Detection/ResNet50_Transfer_Learning.keras\n",
            "\u001b[1m449/449\u001b[0m \u001b[32m━━━━━━━━━━━━━━━━━━━━\u001b[0m\u001b[37m\u001b[0m \u001b[1m446s\u001b[0m 962ms/step - accuracy: 0.4365 - loss: 1.5945 - val_accuracy: 0.4797 - val_loss: 2.6301\n",
            "Epoch 3/30\n",
            "\u001b[1m449/449\u001b[0m \u001b[32m━━━━━━━━━━━━━━━━━━━━\u001b[0m\u001b[37m\u001b[0m \u001b[1m0s\u001b[0m 891ms/step - accuracy: 0.5203 - loss: 1.2984\n",
            "Epoch 3: val_loss improved from 2.63012 to 1.27404, saving model to /content/FER_2013_Emotion_Detection/ResNet50_Transfer_Learning.keras\n",
            "\u001b[1m449/449\u001b[0m \u001b[32m━━━━━━━━━━━━━━━━━━━━\u001b[0m\u001b[37m\u001b[0m \u001b[1m438s\u001b[0m 953ms/step - accuracy: 0.5203 - loss: 1.2984 - val_accuracy: 0.5763 - val_loss: 1.2740\n",
            "Epoch 4/30\n",
            "\u001b[1m449/449\u001b[0m \u001b[32m━━━━━━━━━━━━━━━━━━━━\u001b[0m\u001b[37m\u001b[0m \u001b[1m0s\u001b[0m 900ms/step - accuracy: 0.5526 - loss: 1.2039\n",
            "Epoch 4: val_loss improved from 1.27404 to 1.12088, saving model to /content/FER_2013_Emotion_Detection/ResNet50_Transfer_Learning.keras\n",
            "\u001b[1m449/449\u001b[0m \u001b[32m━━━━━━━━━━━━━━━━━━━━\u001b[0m\u001b[37m\u001b[0m \u001b[1m440s\u001b[0m 950ms/step - accuracy: 0.5526 - loss: 1.2039 - val_accuracy: 0.5878 - val_loss: 1.1209\n",
            "Epoch 5/30\n",
            "\u001b[1m449/449\u001b[0m \u001b[32m━━━━━━━━━━━━━━━━━━━━\u001b[0m\u001b[37m\u001b[0m \u001b[1m0s\u001b[0m 875ms/step - accuracy: 0.5655 - loss: 1.1521\n",
            "Epoch 5: val_loss did not improve from 1.12088\n",
            "\u001b[1m449/449\u001b[0m \u001b[32m━━━━━━━━━━━━━━━━━━━━\u001b[0m\u001b[37m\u001b[0m \u001b[1m424s\u001b[0m 910ms/step - accuracy: 0.5655 - loss: 1.1521 - val_accuracy: 0.5715 - val_loss: 1.1594\n",
            "Epoch 6/30\n",
            "\u001b[1m449/449\u001b[0m \u001b[32m━━━━━━━━━━━━━━━━━━━━\u001b[0m\u001b[37m\u001b[0m \u001b[1m0s\u001b[0m 883ms/step - accuracy: 0.5842 - loss: 1.0971\n",
            "Epoch 6: val_loss did not improve from 1.12088\n",
            "\u001b[1m449/449\u001b[0m \u001b[32m━━━━━━━━━━━━━━━━━━━━\u001b[0m\u001b[37m\u001b[0m \u001b[1m413s\u001b[0m 919ms/step - accuracy: 0.5842 - loss: 1.0971 - val_accuracy: 0.5883 - val_loss: 1.1328\n",
            "Epoch 7/30\n",
            "\u001b[1m449/449\u001b[0m \u001b[32m━━━━━━━━━━━━━━━━━━━━\u001b[0m\u001b[37m\u001b[0m \u001b[1m0s\u001b[0m 889ms/step - accuracy: 0.6033 - loss: 1.0544\n",
            "Epoch 7: val_loss improved from 1.12088 to 1.07150, saving model to /content/FER_2013_Emotion_Detection/ResNet50_Transfer_Learning.keras\n",
            "\u001b[1m449/449\u001b[0m \u001b[32m━━━━━━━━━━━━━━━━━━━━\u001b[0m\u001b[37m\u001b[0m \u001b[1m452s\u001b[0m 941ms/step - accuracy: 0.6033 - loss: 1.0544 - val_accuracy: 0.6052 - val_loss: 1.0715\n",
            "Epoch 8/30\n",
            "\u001b[1m449/449\u001b[0m \u001b[32m━━━━━━━━━━━━━━━━━━━━\u001b[0m\u001b[37m\u001b[0m \u001b[1m0s\u001b[0m 870ms/step - accuracy: 0.6032 - loss: 1.0473\n",
            "Epoch 8: val_loss did not improve from 1.07150\n",
            "\u001b[1m449/449\u001b[0m \u001b[32m━━━━━━━━━━━━━━━━━━━━\u001b[0m\u001b[37m\u001b[0m \u001b[1m426s\u001b[0m 905ms/step - accuracy: 0.6032 - loss: 1.0473 - val_accuracy: 0.5989 - val_loss: 1.1743\n",
            "Epoch 9/30\n",
            "\u001b[1m449/449\u001b[0m \u001b[32m━━━━━━━━━━━━━━━━━━━━\u001b[0m\u001b[37m\u001b[0m \u001b[1m0s\u001b[0m 897ms/step - accuracy: 0.6122 - loss: 1.0159\n",
            "Epoch 9: val_loss improved from 1.07150 to 1.04536, saving model to /content/FER_2013_Emotion_Detection/ResNet50_Transfer_Learning.keras\n",
            "\u001b[1m449/449\u001b[0m \u001b[32m━━━━━━━━━━━━━━━━━━━━\u001b[0m\u001b[37m\u001b[0m \u001b[1m427s\u001b[0m 952ms/step - accuracy: 0.6122 - loss: 1.0160 - val_accuracy: 0.6167 - val_loss: 1.0454\n",
            "Epoch 10/30\n",
            "\u001b[1m449/449\u001b[0m \u001b[32m━━━━━━━━━━━━━━━━━━━━\u001b[0m\u001b[37m\u001b[0m \u001b[1m0s\u001b[0m 913ms/step - accuracy: 0.6186 - loss: 1.0023\n",
            "Epoch 10: val_loss did not improve from 1.04536\n",
            "\u001b[1m449/449\u001b[0m \u001b[32m━━━━━━━━━━━━━━━━━━━━\u001b[0m\u001b[37m\u001b[0m \u001b[1m441s\u001b[0m 948ms/step - accuracy: 0.6186 - loss: 1.0023 - val_accuracy: 0.5996 - val_loss: 1.1216\n",
            "Epoch 11/30\n",
            "\u001b[1m449/449\u001b[0m \u001b[32m━━━━━━━━━━━━━━━━━━━━\u001b[0m\u001b[37m\u001b[0m \u001b[1m0s\u001b[0m 902ms/step - accuracy: 0.6173 - loss: 1.0229\n",
            "Epoch 11: val_loss did not improve from 1.04536\n",
            "\u001b[1m449/449\u001b[0m \u001b[32m━━━━━━━━━━━━━━━━━━━━\u001b[0m\u001b[37m\u001b[0m \u001b[1m426s\u001b[0m 948ms/step - accuracy: 0.6173 - loss: 1.0229 - val_accuracy: 0.6140 - val_loss: 1.0492\n",
            "Epoch 12/30\n",
            "\u001b[1m449/449\u001b[0m \u001b[32m━━━━━━━━━━━━━━━━━━━━\u001b[0m\u001b[37m\u001b[0m \u001b[1m0s\u001b[0m 902ms/step - accuracy: 0.6333 - loss: 0.9464\n",
            "Epoch 12: val_loss did not improve from 1.04536\n",
            "\u001b[1m449/449\u001b[0m \u001b[32m━━━━━━━━━━━━━━━━━━━━\u001b[0m\u001b[37m\u001b[0m \u001b[1m437s\u001b[0m 938ms/step - accuracy: 0.6333 - loss: 0.9464 - val_accuracy: 0.5949 - val_loss: 1.1394\n",
            "Epoch 13/30\n",
            "\u001b[1m449/449\u001b[0m \u001b[32m━━━━━━━━━━━━━━━━━━━━\u001b[0m\u001b[37m\u001b[0m \u001b[1m0s\u001b[0m 904ms/step - accuracy: 0.6366 - loss: 0.9404\n",
            "Epoch 13: val_loss did not improve from 1.04536\n",
            "\u001b[1m449/449\u001b[0m \u001b[32m━━━━━━━━━━━━━━━━━━━━\u001b[0m\u001b[37m\u001b[0m \u001b[1m422s\u001b[0m 939ms/step - accuracy: 0.6366 - loss: 0.9405 - val_accuracy: 0.6201 - val_loss: 1.0471\n",
            "Epoch 14/30\n",
            "\u001b[1m449/449\u001b[0m \u001b[32m━━━━━━━━━━━━━━━━━━━━\u001b[0m\u001b[37m\u001b[0m \u001b[1m0s\u001b[0m 876ms/step - accuracy: 0.6472 - loss: 0.9085\n",
            "Epoch 14: val_loss improved from 1.04536 to 1.03270, saving model to /content/FER_2013_Emotion_Detection/ResNet50_Transfer_Learning.keras\n",
            "\u001b[1m449/449\u001b[0m \u001b[32m━━━━━━━━━━━━━━━━━━━━\u001b[0m\u001b[37m\u001b[0m \u001b[1m416s\u001b[0m 926ms/step - accuracy: 0.6472 - loss: 0.9085 - val_accuracy: 0.6266 - val_loss: 1.0327\n",
            "Epoch 15/30\n",
            "\u001b[1m449/449\u001b[0m \u001b[32m━━━━━━━━━━━━━━━━━━━━\u001b[0m\u001b[37m\u001b[0m \u001b[1m0s\u001b[0m 874ms/step - accuracy: 0.6522 - loss: 0.9139\n",
            "Epoch 15: val_loss improved from 1.03270 to 1.02236, saving model to /content/FER_2013_Emotion_Detection/ResNet50_Transfer_Learning.keras\n",
            "\u001b[1m449/449\u001b[0m \u001b[32m━━━━━━━━━━━━━━━━━━━━\u001b[0m\u001b[37m\u001b[0m \u001b[1m444s\u001b[0m 932ms/step - accuracy: 0.6522 - loss: 0.9139 - val_accuracy: 0.6317 - val_loss: 1.0224\n",
            "Epoch 16/30\n",
            "\u001b[1m449/449\u001b[0m \u001b[32m━━━━━━━━━━━━━━━━━━━━\u001b[0m\u001b[37m\u001b[0m \u001b[1m0s\u001b[0m 889ms/step - accuracy: 0.6520 - loss: 0.8922\n",
            "Epoch 16: val_loss improved from 1.02236 to 1.01440, saving model to /content/FER_2013_Emotion_Detection/ResNet50_Transfer_Learning.keras\n",
            "\u001b[1m449/449\u001b[0m \u001b[32m━━━━━━━━━━━━━━━━━━━━\u001b[0m\u001b[37m\u001b[0m \u001b[1m420s\u001b[0m 934ms/step - accuracy: 0.6521 - loss: 0.8922 - val_accuracy: 0.6372 - val_loss: 1.0144\n",
            "Epoch 17/30\n",
            "\u001b[1m449/449\u001b[0m \u001b[32m━━━━━━━━━━━━━━━━━━━━\u001b[0m\u001b[37m\u001b[0m \u001b[1m0s\u001b[0m 913ms/step - accuracy: 0.6602 - loss: 0.8802\n",
            "Epoch 17: val_loss improved from 1.01440 to 0.98190, saving model to /content/FER_2013_Emotion_Detection/ResNet50_Transfer_Learning.keras\n",
            "\u001b[1m449/449\u001b[0m \u001b[32m━━━━━━━━━━━━━━━━━━━━\u001b[0m\u001b[37m\u001b[0m \u001b[1m459s\u001b[0m 973ms/step - accuracy: 0.6602 - loss: 0.8802 - val_accuracy: 0.6467 - val_loss: 0.9819\n",
            "Epoch 18/30\n",
            "\u001b[1m449/449\u001b[0m \u001b[32m━━━━━━━━━━━━━━━━━━━━\u001b[0m\u001b[37m\u001b[0m \u001b[1m0s\u001b[0m 882ms/step - accuracy: 0.6684 - loss: 0.8664\n",
            "Epoch 18: val_loss did not improve from 0.98190\n",
            "\u001b[1m449/449\u001b[0m \u001b[32m━━━━━━━━━━━━━━━━━━━━\u001b[0m\u001b[37m\u001b[0m \u001b[1m418s\u001b[0m 919ms/step - accuracy: 0.6684 - loss: 0.8664 - val_accuracy: 0.6084 - val_loss: 1.1017\n",
            "Epoch 19/30\n",
            "\u001b[1m449/449\u001b[0m \u001b[32m━━━━━━━━━━━━━━━━━━━━\u001b[0m\u001b[37m\u001b[0m \u001b[1m0s\u001b[0m 902ms/step - accuracy: 0.6696 - loss: 0.8610\n",
            "Epoch 19: val_loss improved from 0.98190 to 0.96466, saving model to /content/FER_2013_Emotion_Detection/ResNet50_Transfer_Learning.keras\n",
            "\u001b[1m449/449\u001b[0m \u001b[32m━━━━━━━━━━━━━━━━━━━━\u001b[0m\u001b[37m\u001b[0m \u001b[1m461s\u001b[0m 961ms/step - accuracy: 0.6695 - loss: 0.8610 - val_accuracy: 0.6457 - val_loss: 0.9647\n",
            "Epoch 20/30\n",
            "\u001b[1m449/449\u001b[0m \u001b[32m━━━━━━━━━━━━━━━━━━━━\u001b[0m\u001b[37m\u001b[0m \u001b[1m0s\u001b[0m 909ms/step - accuracy: 0.6674 - loss: 0.8363\n",
            "Epoch 20: val_loss did not improve from 0.96466\n",
            "\u001b[1m449/449\u001b[0m \u001b[32m━━━━━━━━━━━━━━━━━━━━\u001b[0m\u001b[37m\u001b[0m \u001b[1m434s\u001b[0m 944ms/step - accuracy: 0.6674 - loss: 0.8364 - val_accuracy: 0.6411 - val_loss: 0.9751\n",
            "Epoch 21/30\n",
            "\u001b[1m449/449\u001b[0m \u001b[32m━━━━━━━━━━━━━━━━━━━━\u001b[0m\u001b[37m\u001b[0m \u001b[1m0s\u001b[0m 908ms/step - accuracy: 0.6828 - loss: 0.8165\n",
            "Epoch 21: val_loss did not improve from 0.96466\n",
            "\u001b[1m449/449\u001b[0m \u001b[32m━━━━━━━━━━━━━━━━━━━━\u001b[0m\u001b[37m\u001b[0m \u001b[1m442s\u001b[0m 944ms/step - accuracy: 0.6827 - loss: 0.8166 - val_accuracy: 0.6441 - val_loss: 0.9840\n",
            "Epoch 22/30\n",
            "\u001b[1m449/449\u001b[0m \u001b[32m━━━━━━━━━━━━━━━━━━━━\u001b[0m\u001b[37m\u001b[0m \u001b[1m0s\u001b[0m 902ms/step - accuracy: 0.6747 - loss: 0.8249\n",
            "Epoch 22: val_loss did not improve from 0.96466\n",
            "\u001b[1m449/449\u001b[0m \u001b[32m━━━━━━━━━━━━━━━━━━━━\u001b[0m\u001b[37m\u001b[0m \u001b[1m421s\u001b[0m 937ms/step - accuracy: 0.6747 - loss: 0.8249 - val_accuracy: 0.6326 - val_loss: 1.0012\n",
            "Epoch 23/30\n",
            "\u001b[1m449/449\u001b[0m \u001b[32m━━━━━━━━━━━━━━━━━━━━\u001b[0m\u001b[37m\u001b[0m \u001b[1m0s\u001b[0m 895ms/step - accuracy: 0.6887 - loss: 0.7983\n",
            "Epoch 23: val_loss did not improve from 0.96466\n",
            "\u001b[1m449/449\u001b[0m \u001b[32m━━━━━━━━━━━━━━━━━━━━\u001b[0m\u001b[37m\u001b[0m \u001b[1m418s\u001b[0m 930ms/step - accuracy: 0.6887 - loss: 0.7983 - val_accuracy: 0.6539 - val_loss: 0.9693\n",
            "Epoch 24/30\n",
            "\u001b[1m449/449\u001b[0m \u001b[32m━━━━━━━━━━━━━━━━━━━━\u001b[0m\u001b[37m\u001b[0m \u001b[1m0s\u001b[0m 896ms/step - accuracy: 0.6981 - loss: 0.7745\n",
            "Epoch 24: val_loss did not improve from 0.96466\n",
            "\u001b[1m449/449\u001b[0m \u001b[32m━━━━━━━━━━━━━━━━━━━━\u001b[0m\u001b[37m\u001b[0m \u001b[1m443s\u001b[0m 932ms/step - accuracy: 0.6981 - loss: 0.7745 - val_accuracy: 0.6619 - val_loss: 0.9701\n",
            "Epoch 25/30\n",
            "\u001b[1m449/449\u001b[0m \u001b[32m━━━━━━━━━━━━━━━━━━━━\u001b[0m\u001b[37m\u001b[0m \u001b[1m0s\u001b[0m 903ms/step - accuracy: 0.6935 - loss: 0.7956\n",
            "Epoch 25: val_loss did not improve from 0.96466\n",
            "\u001b[1m449/449\u001b[0m \u001b[32m━━━━━━━━━━━━━━━━━━━━\u001b[0m\u001b[37m\u001b[0m \u001b[1m422s\u001b[0m 940ms/step - accuracy: 0.6935 - loss: 0.7956 - val_accuracy: 0.6662 - val_loss: 0.9672\n",
            "Epoch 26/30\n",
            "\u001b[1m449/449\u001b[0m \u001b[32m━━━━━━━━━━━━━━━━━━━━\u001b[0m\u001b[37m\u001b[0m \u001b[1m0s\u001b[0m 906ms/step - accuracy: 0.7092 - loss: 0.7451\n",
            "Epoch 26: val_loss improved from 0.96466 to 0.94914, saving model to /content/FER_2013_Emotion_Detection/ResNet50_Transfer_Learning.keras\n",
            "\u001b[1m449/449\u001b[0m \u001b[32m━━━━━━━━━━━━━━━━━━━━\u001b[0m\u001b[37m\u001b[0m \u001b[1m428s\u001b[0m 951ms/step - accuracy: 0.7092 - loss: 0.7451 - val_accuracy: 0.6594 - val_loss: 0.9491\n",
            "Epoch 27/30\n",
            "\u001b[1m449/449\u001b[0m \u001b[32m━━━━━━━━━━━━━━━━━━━━\u001b[0m\u001b[37m\u001b[0m \u001b[1m0s\u001b[0m 891ms/step - accuracy: 0.6926 - loss: 0.8112\n",
            "Epoch 27: val_loss did not improve from 0.94914\n",
            "\u001b[1m449/449\u001b[0m \u001b[32m━━━━━━━━━━━━━━━━━━━━\u001b[0m\u001b[37m\u001b[0m \u001b[1m421s\u001b[0m 936ms/step - accuracy: 0.6926 - loss: 0.8111 - val_accuracy: 0.6610 - val_loss: 0.9744\n",
            "Epoch 28/30\n",
            "\u001b[1m449/449\u001b[0m \u001b[32m━━━━━━━━━━━━━━━━━━━━\u001b[0m\u001b[37m\u001b[0m \u001b[1m0s\u001b[0m 893ms/step - accuracy: 0.7038 - loss: 0.7609\n",
            "Epoch 28: val_loss did not improve from 0.94914\n",
            "\u001b[1m449/449\u001b[0m \u001b[32m━━━━━━━━━━━━━━━━━━━━\u001b[0m\u001b[37m\u001b[0m \u001b[1m438s\u001b[0m 928ms/step - accuracy: 0.7038 - loss: 0.7609 - val_accuracy: 0.6467 - val_loss: 1.0555\n",
            "Epoch 29/30\n",
            "\u001b[1m449/449\u001b[0m \u001b[32m━━━━━━━━━━━━━━━━━━━━\u001b[0m\u001b[37m\u001b[0m \u001b[1m0s\u001b[0m 892ms/step - accuracy: 0.7065 - loss: 0.7514\n",
            "Epoch 29: val_loss did not improve from 0.94914\n",
            "\u001b[1m449/449\u001b[0m \u001b[32m━━━━━━━━━━━━━━━━━━━━\u001b[0m\u001b[37m\u001b[0m \u001b[1m442s\u001b[0m 928ms/step - accuracy: 0.7065 - loss: 0.7515 - val_accuracy: 0.6439 - val_loss: 1.0044\n",
            "Epoch 30/30\n",
            "\u001b[1m449/449\u001b[0m \u001b[32m━━━━━━━━━━━━━━━━━━━━\u001b[0m\u001b[37m\u001b[0m \u001b[1m0s\u001b[0m 891ms/step - accuracy: 0.7079 - loss: 0.7343\n",
            "Epoch 30: val_loss did not improve from 0.94914\n",
            "\u001b[1m449/449\u001b[0m \u001b[32m━━━━━━━━━━━━━━━━━━━━\u001b[0m\u001b[37m\u001b[0m \u001b[1m442s\u001b[0m 926ms/step - accuracy: 0.7079 - loss: 0.7344 - val_accuracy: 0.6560 - val_loss: 0.9995\n",
            "Restoring model weights from the end of the best epoch: 25.\n"
          ]
        }
      ],
      "source": [
        "train_history = model.fit(\n",
        "                          train_generator,\n",
        "                          steps_per_epoch=train_steps_per_epoch,\n",
        "                          epochs=30,\n",
        "                          validation_data=test_generator,\n",
        "                          validation_steps=test_steps_epoch,\n",
        "                          class_weight=class_weights_dict,\n",
        "                          callbacks = callbacks\n",
        "                         )"
      ]
    },
    {
      "cell_type": "code",
      "execution_count": null,
      "metadata": {
        "id": "8s40lUNndKQa",
        "trusted": true
      },
      "outputs": [],
      "source": [
        "model.save(\"emotion_detection_Tensor_2_18.keras\")"
      ]
    },
    {
      "cell_type": "code",
      "execution_count": null,
      "metadata": {
        "colab": {
          "base_uri": "https://localhost:8080/"
        },
        "id": "5GnHNrlJdKQa",
        "outputId": "18a00961-2d9e-48fc-f142-3397bd0f207d",
        "trusted": true
      },
      "outputs": [
        {
          "name": "stderr",
          "output_type": "stream",
          "text": [
            "WARNING:absl:You are saving your model as an HDF5 file via `model.save()` or `keras.saving.save_model(model)`. This file format is considered legacy. We recommend using instead the native Keras format, e.g. `model.save('my_model.keras')` or `keras.saving.save_model(model, 'my_model.keras')`. \n"
          ]
        }
      ],
      "source": [
        "model.save(\"emotion_detection_Tensor_2_18.h5\")"
      ]
    },
    {
      "cell_type": "code",
      "execution_count": null,
      "metadata": {
        "id": "yaBeJI0teCPm"
      },
      "outputs": [],
      "source": []
    }
  ],
  "metadata": {
    "accelerator": "GPU",
    "colab": {
      "gpuType": "T4",
      "provenance": []
    },
    "kaggle": {
      "accelerator": "nvidiaTeslaT4",
      "dataSources": [
        {
          "datasetId": 786787,
          "sourceId": 1351797,
          "sourceType": "datasetVersion"
        }
      ],
      "dockerImageVersionId": 31041,
      "isGpuEnabled": true,
      "isInternetEnabled": true,
      "language": "python",
      "sourceType": "notebook"
    },
    "kernelspec": {
      "display_name": "Python 3",
      "name": "python3"
    },
    "language_info": {
      "codemirror_mode": {
        "name": "ipython",
        "version": 3
      },
      "file_extension": ".py",
      "mimetype": "text/x-python",
      "name": "python",
      "nbconvert_exporter": "python",
      "pygments_lexer": "ipython3",
      "version": "3.11.11"
    }
  },
  "nbformat": 4,
  "nbformat_minor": 0
}
